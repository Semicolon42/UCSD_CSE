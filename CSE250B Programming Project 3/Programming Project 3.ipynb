{
 "cells": [
  {
   "cell_type": "code",
   "execution_count": 1,
   "metadata": {},
   "outputs": [
    {
     "name": "stdout",
     "output_type": "stream",
     "text": [
      "showing info https://raw.githubusercontent.com/nltk/nltk_data/gh-pages/index.xml\n",
      "===Done===\n"
     ]
    }
   ],
   "source": [
    "import nltk;\n",
    "nltk.download()\n",
    "print \"===Done===\""
   ]
  },
  {
   "cell_type": "code",
   "execution_count": 30,
   "metadata": {},
   "outputs": [
    {
     "name": "stdout",
     "output_type": "stream",
     "text": [
      "Corpus Brown Words:  <class 'nltk.corpus.reader.util.ConcatenatedCorpusView'> 1161192 \n",
      "\n",
      "====STOP WORDS====\n",
      "set([u'all', u'just', u\"don't\", u'being', u'over', u'both', u'through', u'yourselves', u'its', u'before', u'o', u'don', u'hadn', u'herself', u'll', u'had', u'should', u'to', u'only', u'won', u'under', u'ours', u'has', u\"should've\", u\"haven't\", u'do', u'them', u'his', u'very', u\"you've\", u'they', u'not', u'during', u'now', u'him', u'nor', u\"wasn't\", u'd', u'did', u'didn', u'this', u'she', u'each', u'further', u\"won't\", u'where', u\"mustn't\", u\"isn't\", u'few', u'because', u\"you'd\", u'doing', u'some', u'hasn', u\"hasn't\", u'are', u'our', u'ourselves', u'out', u'what', u'for', u\"needn't\", u'below', u're', u'does', u\"shouldn't\", u'above', u'between', u'mustn', u't', u'be', u'we', u'who', u\"mightn't\", u\"doesn't\", u'were', u'here', u'shouldn', u'hers', u\"aren't\", u'by', u'on', u'about', u'couldn', u'of', u\"wouldn't\", u'against', u's', u'isn', u'or', u'own', u'into', u'yourself', u'down', u\"hadn't\", u'mightn', u\"couldn't\", u'wasn', u'your', u\"you're\", u'from', u'her', u'their', u'aren', u\"it's\", u'there', u'been', u'whom', u'too', u'wouldn', u'themselves', u'weren', u'was', u'until', u'more', u'himself', u'that', u\"didn't\", u'but', u\"that'll\", u'with', u'than', u'those', u'he', u'me', u'myself', u'ma', u\"weren't\", u'these', u'up', u'will', u'while', u'ain', u'can', u'theirs', u'my', u'and', u've', u'then', u'is', u'am', u'it', u'doesn', u'an', u'as', u'itself', u'at', u'have', u'in', u'any', u'if', u'again', u'no', u'when', u'same', u'how', u'other', u'which', u'you', u\"shan't\", u'shan', u'needn', u'haven', u'after', u'most', u'such', u'why', u'a', u'off', u'i', u'm', u'yours', u\"you'll\", u'so', u'y', u\"she's\", u'the', u'having', u'once'])\n"
     ]
    }
   ],
   "source": [
    "from nltk.corpus import stopwords\n",
    "import string\n",
    "import re\n",
    "\n",
    "# ==== The Words ====\n",
    "words = nltk.corpus.brown.words();\n",
    "print \"Corpus Brown Words: \", type(words), len(words), \"\\n\"\n",
    "\n",
    "# ==== STOP WORDS ====\n",
    "stop_words = set(stopwords.words('english'))\n",
    "print \"====STOP WORDS====\\n\",stop_words\n",
    "\n",
    "# ==== MUST CONTAIN AN ALPHABET CHARACTER ====\n",
    "regex_pattern = \"(.*)[a-zA-Z]+(.*)\"\n",
    "p = re.compile(regex_pattern)\n",
    "print \"Regex Pattern Requirement: \" + regex_pattern"
   ]
  },
  {
   "cell_type": "code",
   "execution_count": 29,
   "metadata": {},
   "outputs": [
    {
     "name": "stdout",
     "output_type": "stream",
     "text": [
      "set([u'all', u'just', u\"don't\", u'being', u'over', u'both', u'through', u'yourselves', u'its', u'before', u'o', u'don', u'hadn', u'herself', u'll', u'had', u'should', u'to', u'only', u'won', u'under', u'ours', u'has', u\"should've\", u\"haven't\", u'do', u'them', u'his', u'very', u\"you've\", u'they', u'not', u'during', u'now', u'him', u'nor', u\"wasn't\", u'd', u'did', u'didn', u'this', u'she', u'each', u'further', u\"won't\", u'where', u\"mustn't\", u\"isn't\", u'few', u'because', u\"you'd\", u'doing', u'some', u'hasn', u\"hasn't\", u'are', u'our', u'ourselves', u'out', u'what', u'for', u\"needn't\", u'below', u're', u'does', u\"shouldn't\", u'above', u'between', u'mustn', u't', u'be', u'we', u'who', u\"mightn't\", u\"doesn't\", u'were', u'here', u'shouldn', u'hers', u\"aren't\", u'by', u'on', u'about', u'couldn', u'of', u\"wouldn't\", u'against', u's', u'isn', u'or', u'own', u'into', u'yourself', u'down', u\"hadn't\", u'mightn', u\"couldn't\", u'wasn', u'your', u\"you're\", u'from', u'her', u'their', u'aren', u\"it's\", u'there', u'been', u'whom', u'too', u'wouldn', u'themselves', u'weren', u'was', u'until', u'more', u'himself', u'that', u\"didn't\", u'but', u\"that'll\", u'with', u'than', u'those', u'he', u'me', u'myself', u'ma', u\"weren't\", u'these', u'up', u'will', u'while', u'ain', u'can', u'theirs', u'my', u'and', u've', u'then', u'is', u'am', u'it', u'doesn', u'an', u'as', u'itself', u'at', u'have', u'in', u'any', u'if', u'again', u'no', u'when', u'same', u'how', u'other', u'which', u'you', u\"shan't\", u'shan', u'needn', u'haven', u'after', u'most', u'such', u'why', u'a', u'off', u'i', u'm', u'yours', u\"you'll\", u'so', u'y', u\"she's\", u'the', u'having', u'once'])\n",
      "<class 'nltk.corpus.reader.util.ConcatenatedCorpusView'> 1161192 \n",
      "\n",
      " fulton county grand jury said friday investigation atlanta's recent primary election produced evidence irregularities took place jury said term-end presentments city executive committee over-all charge election deserves praise thanks city atlanta manner election conducted september-october term jury charged fulton superior court judge durwood pye investigate reports possible irregularities hard-fought primary mayor-nominate ivan allen jr. relative handful reports received jury said considering widespread interest election number voters size city jury said find many georgia's registration election laws outmoded inadequate often ambiguous recommended fulton legislators act laws studied revised end modernizing improving grand jury commented number topics among atlanta fulton county purchasing departments\n",
      " said well operated follow generally accepted practices inure best interest governments merger proposed however jury said believes two offices combined achieve greater efficiency reduce cost administration city purchasing department jury said lacking experienced clerical personnel result city personnel policies urged city take steps remedy problem implementation georgia's automobile title law also recommended outgoing jury urged next legislature provide enabling funds re-set effective date orderly implementation law may effected grand jury took swipe state welfare department's handling federal funds granted child welfare services foster homes one major items fulton county general assistance program jury said state welfare department seen fit distribute funds\n",
      " welfare departments counties state exception fulton county receives none money jurors said realize proportionate distribution funds might disable program less populous counties nevertheless feel future fulton county receive portion available funds jurors said failure continue place disproportionate burden fulton taxpayers jury also commented fulton ordinary's court fire practices appointment appraisers guardians administrators awarding fees compensation wards protected jury said found court incorporated operating procedures recommendations two previous grand juries atlanta bar association interim citizens committee actions serve protect fact effect court's wards undue costs appointed elected servants unmeritorious criticisms jury said regarding atlanta's new multi-million-dollar airport jury recommended new management takes\n",
      " charge jan. airport operated manner eliminate political influences jury elaborate added periodic surveillance pricing practices concessionaires purpose keeping prices reasonable ask jail deputies matters jury recommended four additional deputies employed fulton county jail doctor medical intern extern employed night weekend duty jail fulton legislators work city officials pass enabling legislation permit establishment fair equitable pension plan city employes jury praised administration operation atlanta police department fulton tax commissioner's office bellwood alpharetta prison farms grady hospital fulton health department mayor william b. hartsfield filed suit divorce wife pearl williams hartsfield fulton superior court friday petition charged mental cruelty couple married aug. son\n",
      " william berry jr. daughter mrs. j. m. cheshire griffin attorneys mayor said amicable property settlement agreed upon petition listed mayor's occupation attorney age listed wife's age place birth opelika ala. petition said couple lived together man wife year hartsfield home e. pelham rd. aj henry l. bowden listed petition mayor's attorney hartsfield mayor atlanta exception one brief interlude since political career goes back election city council mayor's present term office expires jan. succeeded ivan allen jr. became candidate sept. primary mayor hartsfield announced would run reelection georgia republicans getting strong encouragement enter candidate governor's race top official said wednesday robert snodgrass\n",
      " state gop chairman said meeting held tuesday night blue ridge brought enthusiastic responses audience state party chairman james w. dorsey added enthusiasm picking state rally held sept. savannah newly elected texas sen. john tower featured speaker blue ridge meeting audience warned entering candidate governor would force take petitions voting precincts obtain signatures registered voters despite warning unanimous vote enter candidate according republicans attended crowd asked whether wanted wait one term make race voted dissents largest hurdle republicans would face state law says making first race one two alternative courses must taken five per cent voters county must sign petitions requesting republicans\n",
      " allowed place names candidates general election ballot republicans must hold primary county unit system system party opposes platform sam caldwell state highway department public relations director resigned tuesday work lt. gov. garland byrd's campaign caldwell's resignation expected time succeeded rob ledford gainesville assistant three years gubernatorial campaign starts caldwell expected become campaign coordinator byrd georgia legislature wind session monday head home highway bond money approved follow shortly adjournment monday afternoon senate expected approve study number legislators allotted rural urban areas determine adjustments made gov. vandiver expected make traditional visit chambers work toward adjournment vandiver likely mention million highway bond issue approved\n",
      " earlier session first priority item construction bonds meanwhile learned state highway department near ready issue first million worth highway reconstruction bonds bond issue go state courts friendly test suit test validity act sales begin contracts let repair work georgia's heavily traveled highways highway department source said also plan issue million million worth rural roads authority bonds rural road construction work revolving fund department apparently intends make rural roads authority revolving fund new bonds would issued every time portion old ones paid tax authorities vandiver opened race governor battle legislature issuance million worth additional rural roads bonds proposed gov. marvin griffin highway\n",
      " department source told constitution however vandiver consulted yet plans issue new rural roads bonds schley county rep. b. d. pelham offer resolution monday house rescind body's action friday voting per day increase expense allowances pelham said sunday night research done whether quickie vote increase repealed outright whether notice would first given reconsideration action would sought emphasizing technical details fully worked pelham said resolution would seek set aside privilege resolution house voted similar resolution passed senate vote sunday night word resolution offered rescind action pelham pointed georgia voters last november rejected constitutional amendment allow legislators vote pay raises future legislature sessions veteran\n",
      " jackson county legislator ask georgia house monday back federal aid education something consistently opposed past rep. mac barber commerce asking house privilege resolution endorse increased federal support public education provided funds received expended state funds barber 13th year legislator said members congressional delegation washington would like see resolution passed added none georgia's congressmen specifically asked offer resolution resolution barber tossed house hopper friday formally read monday says event congress provide increase federal funds state board education directed give priority teacher pay raises colquitt long hot controversy miller county new school superintendent elected policeman put coolest election ever saw county new school\n"
     ]
    },
    {
     "ename": "KeyError",
     "evalue": "'the'",
     "output_type": "error",
     "traceback": [
      "\u001b[0;31m---------------------------------------------------------------------------\u001b[0m",
      "\u001b[0;31mKeyError\u001b[0m                                  Traceback (most recent call last)",
      "\u001b[0;32m<ipython-input-29-205cab42433a>\u001b[0m in \u001b[0;36m<module>\u001b[0;34m()\u001b[0m\n\u001b[1;32m     26\u001b[0m             \u001b[0mj\u001b[0m\u001b[0;34m=\u001b[0m\u001b[0;36m0\u001b[0m\u001b[0;34m\u001b[0m\u001b[0m\n\u001b[1;32m     27\u001b[0m \u001b[0;34m\u001b[0m\u001b[0m\n\u001b[0;32m---> 28\u001b[0;31m \u001b[0;32mprint\u001b[0m \u001b[0mwordCount\u001b[0m\u001b[0;34m[\u001b[0m\u001b[0;34m'the'\u001b[0m\u001b[0;34m]\u001b[0m\u001b[0;34m\u001b[0m\u001b[0m\n\u001b[0m",
      "\u001b[0;31mKeyError\u001b[0m: 'the'"
     ]
    }
   ],
   "source": [
    "from nltk.corpus import stopwords\n",
    "import string\n",
    "\n",
    "# Initialize Word Counts\n",
    "wordCount = dict()\n",
    "\n",
    "j = 0\n",
    "s = \"\"\n",
    "for i in range(2000):\n",
    "    w = words[i].lower()\n",
    "    if w not in stop_words and p.match(w):\n",
    "        wordCount[w] = wordCount.get(w, 0) + 1\n",
    "        j+=1\n",
    "        s = s + \" \" + w\n",
    "        if j > 100:\n",
    "            print s\n",
    "            s = \"\"\n",
    "            j=0\n",
    "\n",
    "print \"Bag-Of-Words Count\" = len(wordCount)\n",
    "\n",
    "#sortedWordCount"
   ]
  },
  {
   "cell_type": "code",
   "execution_count": 8,
   "metadata": {},
   "outputs": [
    {
     "name": "stdout",
     "output_type": "stream",
     "text": [
      "!\"#$%&'()*+,-./:;<=>?@[\\]^_`{|}~\n",
      "['This', 'is', 'a', 'sample', 'sentence', ',', 'showing', 'off', 'the', 'stop', 'words', 'filtration', '.']\n",
      "['This', 'sample', 'sentence', 'showing', 'stop', 'words', 'filtration']\n"
     ]
    }
   ],
   "source": [
    "from nltk.corpus import stopwords\n",
    "from nltk.tokenize import word_tokenize\n",
    "import string\n",
    " \n",
    "example_sent = \"This is a sample sentence, showing off the stop words filtration.\"\n",
    "stop_words = set(stopwords.words('english'))\n",
    "word_tokens = word_tokenize(example_sent)\n",
    " \n",
    "filtered_sentence = [w for w in word_tokens if not w in stop_words]\n",
    "filtered_sentence = []\n",
    " \n",
    "print string.punctuation    \n",
    "\n",
    "for w in word_tokens:\n",
    "    if w not in stop_words and w not in string.punctuation:\n",
    "        filtered_sentence.append(w)\n",
    " \n",
    "print(word_tokens)\n",
    "print(filtered_sentence)"
   ]
  }
 ],
 "metadata": {
  "kernelspec": {
   "display_name": "Python 2",
   "language": "python",
   "name": "python2"
  },
  "language_info": {
   "codemirror_mode": {
    "name": "ipython",
    "version": 2
   },
   "file_extension": ".py",
   "mimetype": "text/x-python",
   "name": "python",
   "nbconvert_exporter": "python",
   "pygments_lexer": "ipython2",
   "version": "2.7.13"
  }
 },
 "nbformat": 4,
 "nbformat_minor": 2
}
