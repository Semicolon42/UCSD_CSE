{
 "cells": [
  {
   "cell_type": "code",
   "execution_count": 14,
   "metadata": {},
   "outputs": [
    {
     "name": "stdout",
     "output_type": "stream",
     "text": [
      "/Users/bmehaffy/Documents/GitHub/UCSD_CSE/CSE250B hw7/hw7-data0.txt True\n",
      "(48, 3)\n",
      "4 (12, 2) (15, 2) (9, 2) (12, 2)\n"
     ]
    }
   ],
   "source": [
    "import os;\n",
    "import numpy as np;\n",
    "from numpy import linalg as LA;\n",
    "import matplotlib.pyplot as plt\n",
    "\n",
    "# Import the data\n",
    "dir_path = os.path.dirname(os.path.realpath('.')) + \"/CSE250B hw7/\" ;\n",
    "fname = dir_path + \"hw7-data0.txt\"\n",
    "print fname, os.path.isfile(fname) \n",
    "tab = np.genfromtxt(dir_path+'hw7-data0.txt', delimiter=' ')\n",
    "print tab.shape\n",
    "\n",
    "# Seperate the data be label as plotting scatters is easier that way\n",
    "labels,data=tab[:,2],tab[:,:2]\n",
    "DATA = {label: data[labels==label] for label in np.unique(labels)}   \n",
    "print len(DATA), DATA[0].shape, DATA[1].shape, DATA[2].shape, DATA[3].shape"
   ]
  },
  {
   "cell_type": "code",
   "execution_count": 15,
   "metadata": {},
   "outputs": [
    {
     "data": {
      "image/png": "[encoded data removed]",
      "text/plain": [
       "<matplotlib.figure.Figure at 0x111b96c10>"
      ]
     },
     "metadata": {},
     "output_type": "display_data"
    },
    {
     "name": "stdout",
     "output_type": "stream",
     "text": [
      "===Done===\n"
     ]
    }
   ],
   "source": [
    "X = tab[:,0]\n",
    "Y = tab[:,1]\n",
    "Z = tab[:,2].astype(int)\n",
    "shape = ['o','s','*','d']\n",
    "\n",
    "for i in range(4):\n",
    "    plt.scatter(DATA[i][:,0],DATA[i][:,1], marker=shape[i])\n",
    "plt.show()\n",
    "print \"===Done===\""
   ]
  },
  {
   "cell_type": "code",
   "execution_count": 16,
   "metadata": {},
   "outputs": [
    {
     "name": "stdout",
     "output_type": "stream",
     "text": [
      "===Done===\n"
     ]
    }
   ],
   "source": [
    "# Define necessary functions\n",
    "def maxIndex(a):\n",
    "    top = a[0]\n",
    "    index = 0\n",
    "    for i in range(len(a)):\n",
    "        if a[i] > top:\n",
    "            top = a[i]\n",
    "            index = i\n",
    "    return index;\n",
    "\n",
    "def predict(W,xx,yy):\n",
    "    return maxIndex(W.dot([[1],[xx],[yy]]))\n",
    "print \"===Done===\""
   ]
  },
  {
   "cell_type": "code",
   "execution_count": 17,
   "metadata": {},
   "outputs": [
    {
     "name": "stdout",
     "output_type": "stream",
     "text": [
      "[[-1. -1. -6.]\n",
      " [ 0. -7.  5.]\n",
      " [ 0.  1. -7.]\n",
      " [ 1.  7.  8.]]\n",
      "[[ 0.  0.  0.]\n",
      " [ 0.  0.  0.]\n",
      " [ 0.  0.  0.]\n",
      " [ 0.  0.  0.]]\n",
      "[[-1. -1. -6.]\n",
      " [ 0. -7.  5.]\n",
      " [ 0.  1. -7.]\n",
      " [ 1.  7.  8.]]\n",
      "===Done===\n"
     ]
    }
   ],
   "source": [
    "# Build the multiclass perceptron\n",
    "W = np.array([[0.,0.,0.],[0.,0.,0.],[0.,0.,0.],[0.,0.,0.]])\n",
    "for i in range(len(X)):\n",
    "    # predict based on current Z\n",
    "    xx,yy,zz = X[i],Y[i],Z[i]\n",
    "    z_hat = maxIndex(W.dot([[1],[xx],[yy]]))\n",
    "    # update the perception\n",
    "    W[zz,:] = W[zz,:] + np.array([1.,xx,yy])\n",
    "    W[z_hat,:] = W[z_hat,:] - np.array([1.,xx,yy])\n",
    "print W\n",
    "\n",
    "W = np.array([[0.,0.,0.],[0.,0.,0.],[0.,0.,0.],[0.,0.,0.]])\n",
    "print W\n",
    "for i in range(len(X)):\n",
    "    # predict based on current Z\n",
    "    xx,yy,zz = X[i],Y[i],Z[i]\n",
    "    z_hat = predict(W,xx,yy)\n",
    "    \n",
    "    # update the perception\n",
    "    W[zz,:] = W[zz,:] + np.array([1,xx,yy])\n",
    "    W[z_hat,:] = W[z_hat,:] - np.array([1,xx,yy])\n",
    "print W\n",
    "print \"===Done===\""
   ]
  },
  {
   "cell_type": "code",
   "execution_count": 19,
   "metadata": {},
   "outputs": [
    {
     "name": "stdout",
     "output_type": "stream",
     "text": [
      "XXX (10, 10) (10, 10) (10, 10)\n",
      "[[-1. -1. -6.]\n",
      " [ 0. -7.  5.]\n",
      " [ 0.  1. -7.]\n",
      " [ 1.  7.  8.]]\n",
      "[[ 3.  3.  3.  3.  3.  3.  3.  3.  3.  3.]\n",
      " [ 3.  3.  3.  3.  3.  3.  3.  3.  3.  3.]\n",
      " [ 3.  3.  3.  3.  3.  3.  3.  3.  3.  3.]\n",
      " [ 3.  3.  3.  3.  3.  3.  3.  3.  3.  3.]\n",
      " [ 3.  3.  3.  3.  3.  3.  3.  3.  3.  3.]\n",
      " [ 3.  3.  3.  3.  3.  3.  3.  3.  3.  3.]\n",
      " [ 3.  3.  3.  3.  3.  3.  3.  3.  3.  3.]\n",
      " [ 3.  3.  3.  3.  3.  3.  3.  3.  3.  3.]\n",
      " [ 3.  3.  3.  3.  3.  3.  3.  3.  3.  3.]\n",
      " [ 3.  3.  3.  3.  3.  3.  3.  3.  3.  3.]]\n"
     ]
    },
    {
     "data": {
      "image/png": "[encoded data removed]",
      "text/plain": [
       "<matplotlib.figure.Figure at 0x111bd5550>"
      ]
     },
     "metadata": {},
     "output_type": "display_data"
    },
    {
     "name": "stdout",
     "output_type": "stream",
     "text": [
      "===Done===\n"
     ]
    }
   ],
   "source": [
    "n = 10\n",
    "x = np.linspace(0,11,n)\n",
    "y = np.linspace(0,11,n)\n",
    "X,Y = np.meshgrid(x,y)\n",
    "Z = np.zeros(X.shape)\n",
    "print \"XXX\",X.shape, Y.shape, Z.shape\n",
    "print W\n",
    "for iy in range(X.shape[0]):\n",
    "    for ix in range(X.shape[1]):\n",
    "        test = predict(W,X[iy,ix],Y[iy,ix])\n",
    "        Z[iy][ix] = test\n",
    "\n",
    "print Z\n",
    "C1 = plt.contourf(X, Y, Z, alpha=.5, cmap='jet')\n",
    "C2 = plt.contour(X, Y, Z, colors='black')\n",
    "\n",
    "for i in range(4):\n",
    "    plt.scatter(DATA[i][:,0],DATA[i][:,1], marker=shape[i])\n",
    "plt.show()\n",
    "print \"===Done===\""
   ]
  }
 ],
 "metadata": {
  "kernelspec": {
   "display_name": "Python 2",
   "language": "python",
   "name": "python2"
  },
  "language_info": {
   "codemirror_mode": {
    "name": "ipython",
    "version": 2
   },
   "file_extension": ".py",
   "mimetype": "text/x-python",
   "name": "python",
   "nbconvert_exporter": "python",
   "pygments_lexer": "ipython2",
   "version": "2.7.13"
  }
 },
 "nbformat": 4,
 "nbformat_minor": 2
}
