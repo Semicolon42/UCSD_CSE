{
 "cells": [
  {
   "cell_type": "code",
   "execution_count": 33,
   "metadata": {},
   "outputs": [
    {
     "name": "stdout",
     "output_type": "stream",
     "text": [
      "[[ 0.89442719 -0.4472136 ]\n",
      " [ 0.4472136   0.89442719]]\n",
      "[[ 0.89442719  0.4472136 ]\n",
      " [-0.4472136   0.89442719]]\n",
      "[[  1.00000000e+00   0.00000000e+00]\n",
      " [  5.55111512e-17   1.00000000e+00]]\n",
      "[[ 1.4  1.2]\n",
      " [ 1.2 -0.4]]\n",
      "[[ 7.  6.]\n",
      " [ 6. -2.]]\n",
      "[[ 1.]\n",
      " [-2.]]\n"
     ]
    }
   ],
   "source": [
    "# 8.3A\n",
    "import math\n",
    "import numpy as np;\n",
    "f = math.sqrt(5)\n",
    "x = np.array([[2,-1],[1,2]])/f\n",
    "x_ = np.linalg.inv(x)\n",
    "l = np.array([[2,0],[0,-1]])\n",
    "M = np.dot(np.dot(x,l),x_)\n",
    "print x\n",
    "print x_\n",
    "print np.dot(x,x_)\n",
    "print M\n",
    "print M*5\n",
    "print np.dot(M,np.array([[-1],[2]]))"
   ]
  },
  {
   "cell_type": "code",
   "execution_count": 36,
   "metadata": {},
   "outputs": [
    {
     "name": "stdout",
     "output_type": "stream",
     "text": [
      "[[4 0 0 0 0]\n",
      " [0 0 0 1 0]\n",
      " [0 0 2 0 0]\n",
      " [0 3 0 0 0]]\n",
      "[[4 0 0 0 0]\n",
      " [0 0 0 0 0]\n",
      " [0 0 0 0 0]\n",
      " [0 3 0 0 0]]\n"
     ]
    }
   ],
   "source": [
    "# 8.6\n",
    "A = np.array([[1,0,0,0],[0,0,0,1],[0,0,1,0],[0,1,0,0]])\n",
    "B = np.array([[4,0,0,0],[0,3,0,0],[0,0,2,0],[0,0,0,1]])\n",
    "C = np.array([[1,0,0,0,0],[0,1,0,0,0],[0,0,1,0,0],[0,0,0,1,0]])\n",
    "print A.dot(B).dot(C)\n",
    "\n",
    "D1 = np.array([[1,0],[0,0],[0,0],[0,1]])\n",
    "D2 = np.array([[4,0,0,0,0],[0,3,0,0,0]])\n",
    "print D1.dot(D2)"
   ]
  },
  {
   "cell_type": "code",
   "execution_count": 30,
   "metadata": {},
   "outputs": [
    {
     "name": "stdout",
     "output_type": "stream",
     "text": [
      "[[1 2 3]\n",
      " [4 5 6]]\n",
      "[ 9.508032]\n",
      "[[ 0.3863177 ]\n",
      " [ 0.92236578]]\n",
      "[ 9.508032]\n",
      "[[ 0.42866713  0.56630692  0.7039467 ]]\n",
      "[[ 1.57454629  2.08011388  2.58568148]\n",
      " [ 3.75936076  4.96644562  6.17353048]]\n",
      "[[ 4.07578082  5.38446431  6.69314779]]\n",
      "=============\n",
      "(1, 1)\n",
      "[[-0.3863177  -0.92236578]\n",
      " [-0.92236578  0.3863177 ]]\n",
      "[[ 9.508032    0.        ]\n",
      " [ 0.          0.77286964]]\n",
      "[[-0.42866713 -0.56630692 -0.7039467 ]\n",
      " [ 0.80596391  0.11238241 -0.58119908]]\n",
      "[[-4.07578082 -5.38446431 -6.69314779]\n",
      " [ 0.62290503  0.08685696 -0.44919112]]\n"
     ]
    }
   ],
   "source": [
    "#8.7a\n",
    "import numpy as np\n",
    "import sklearn\n",
    "from sklearn.utils.extmath import randomized_svd\n",
    "from sklearn.decomposition import TruncatedSVD\n",
    "X = np.array([[1,2,3],[4,5,6]])\n",
    "print X\n",
    "\n",
    "svd = TruncatedSVD(n_components=1)\n",
    "svd.fit(X)\n",
    "print(svd.singular_values_) \n",
    "\n",
    "U, Sigma, VT = randomized_svd(X, \n",
    "                              n_components=1,\n",
    "                              n_iter=5,\n",
    "                              random_state=None)\n",
    "print U\n",
    "print Sigma\n",
    "print VT\n",
    "print np.dot(np.dot(U,np.diag(Sigma)),VT)\n",
    "print np.dot(np.diag(Sigma),VT)\n",
    "print \"=============\"\n",
    "a = np.random.randn(1, 1)\n",
    "print a.shape\n",
    "P, D, Q = np.linalg.svd(X, full_matrices=False)\n",
    "print P\n",
    "print np.diag(D)\n",
    "print Q\n",
    "print np.dot(np.diag(D),Q)"
   ]
  },
  {
   "cell_type": "code",
   "execution_count": 32,
   "metadata": {},
   "outputs": [
    {
     "name": "stdout",
     "output_type": "stream",
     "text": [
      "[[1]\n",
      " [1]]\n",
      "[[2 4]]\n",
      "[[2 4]\n",
      " [2 4]]\n",
      "[[2 4]\n",
      " [2 4]]\n"
     ]
    }
   ],
   "source": [
    "#8.7.b\n",
    "u = np.array([[1],[1]])\n",
    "v = np.array([[2],[4]])\n",
    "a = np.array([[2],[2]])\n",
    "b = np.array([[1],[2]])\n",
    "print u\n",
    "print v.T\n",
    "print np.dot(u,v.T)\n",
    "print np.dot(a,b.T)"
   ]
  }
 ],
 "metadata": {
  "kernelspec": {
   "display_name": "Python 2",
   "language": "python",
   "name": "python2"
  },
  "language_info": {
   "codemirror_mode": {
    "name": "ipython",
    "version": 2
   },
   "file_extension": ".py",
   "mimetype": "text/x-python",
   "name": "python",
   "nbconvert_exporter": "python",
   "pygments_lexer": "ipython2",
   "version": "2.7.13"
  }
 },
 "nbformat": 4,
 "nbformat_minor": 2
}
