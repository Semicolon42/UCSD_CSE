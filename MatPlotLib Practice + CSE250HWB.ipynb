{
 "cells": [
  {
   "cell_type": "code",
   "execution_count": 1,
   "metadata": {},
   "outputs": [
    {
     "data": {
      "text/plain": [
       "<matplotlib.figure.Figure at 0x10db4fad0>"
      ]
     },
     "metadata": {},
     "output_type": "display_data"
    }
   ],
   "source": [
    "import numpy as np\n",
    "import matplotlib.pyplot as plt\n",
    "from sklearn import svm, datasets\n",
    "\n",
    "X = np.linspace(-np.pi, np.pi, 256, endpoint=True)\n",
    "C,S = np.cos(X), np.sin(X)\n",
    "\n",
    "x = [-2  ,   0,  1,  2]\n",
    "y = [-0.7, 1.0, .7, -1]\n",
    "x2 = [-1,0,1]\n",
    "y2 = [.5,.1,-.1]\n",
    "\n",
    "plt.plot(X,C,label=\"Whis\")\n",
    "plt.plot(X,S,label=\"Beerus\")\n",
    "plt.plot(x,y,label='Goku')\n",
    "plt.plot(x,y,label='Vegeta')\n",
    "\n",
    "plt.xlabel(\"The X Variable\")\n",
    "plt.ylabel(\"The Y Variable\")\n",
    "plt.title(\"The Title\")\n",
    "plt.legend()\n",
    "plt.show()"
   ]
  },
  {
   "cell_type": "code",
   "execution_count": 2,
   "metadata": {},
   "outputs": [
    {
     "data": {
      "image/png": "[encoded data removed]",
      "text/plain": [
       "<matplotlib.figure.Figure at 0x107e1b4d0>"
      ]
     },
     "metadata": {},
     "output_type": "display_data"
    },
    {
     "name": "stdout",
     "output_type": "stream",
     "text": [
      "==DONE!==\n"
     ]
    }
   ],
   "source": [
    "X  = [\"Goku\",\"Vegeta\",\"Napa\"]\n",
    "X2 = [\"GokuBlue\",\"VegetaBlue\",\"NapaBlue\"]\n",
    "Y  = [10,25,10]\n",
    "Y2 = [5,20,50]\n",
    "plt.bar(X ,Y, label=\"Regular\", color=\"black\")\n",
    "plt.bar(X2,Y2,label=\"Super Saiyan\",color=\"orange\")\n",
    "plt.title(\"Popularity of Saiyan's in different forms\")\n",
    "plt.legend()\n",
    "plt.show()\n",
    "print(\"==DONE!==\")"
   ]
  },
  {
   "cell_type": "code",
   "execution_count": 3,
   "metadata": {},
   "outputs": [
    {
     "data": {
      "image/png": "[encoded data removed]",
      "text/plain": [
       "<matplotlib.figure.Figure at 0x1102a2e10>"
      ]
     },
     "metadata": {},
     "output_type": "display_data"
    },
    {
     "name": "stdout",
     "output_type": "stream",
     "text": [
      "== DONE 1 ==\n",
      "[0, 10, 20, 30, 40, 50, 60, 70, 80, 90]\n"
     ]
    },
    {
     "name": "stderr",
     "output_type": "stream",
     "text": [
      "No handlers could be found for logger \"matplotlib.legend\"\n"
     ]
    },
    {
     "data": {
      "image/png": "[encoded data removed]",
      "text/plain": [
       "<matplotlib.figure.Figure at 0x11036a410>"
      ]
     },
     "metadata": {},
     "output_type": "display_data"
    },
    {
     "name": "stdout",
     "output_type": "stream",
     "text": [
      "== DONE 2 ==\n"
     ]
    }
   ],
   "source": [
    "population_ages=[10,5,10,2,30,100,23,20,30,20,27,23,22,24,72,60,65,60,75,24,25,24,4,40,44,35,22,21,22]\n",
    "\n",
    "ids = [x for x in range(len(population_ages))]\n",
    "plt.bar(ids, population_ages, label=\"Population ages\")\n",
    "\n",
    "plt.xlabel(\"Person\")\n",
    "plt.ylabel(\"Age\")\n",
    "plt.title(\"Population Histogram\")\n",
    "plt.legend()\n",
    "plt.show()\n",
    "print \"== DONE 1 ==\"\n",
    "\n",
    "bins = [0,10,20,30,40,50,60,70,80,90]\n",
    "print bins\n",
    "plt.hist(population_ages, bins, histtype='bar', rwidth=0.8)\n",
    "\n",
    "plt.xlabel(\"Ages\")\n",
    "plt.ylabel(\"Frequencies\")\n",
    "plt.title(\"Population Histogram\")\n",
    "plt.legend()\n",
    "plt.show()\n",
    "print \"== DONE 2 ==\""
   ]
  },
  {
   "cell_type": "code",
   "execution_count": 4,
   "metadata": {},
   "outputs": [
    {
     "name": "stdout",
     "output_type": "stream",
     "text": [
      "[-5  0  5]\n"
     ]
    }
   ],
   "source": [
    "q = np.array([[1,2,3],[4,5,6]])\n",
    "w = np.array([10,-5])\n",
    "b = 1\n",
    "print w.dot(q) + 5"
   ]
  },
  {
   "cell_type": "code",
   "execution_count": 5,
   "metadata": {},
   "outputs": [
    {
     "name": "stdout",
     "output_type": "stream",
     "text": [
      "[]\n"
     ]
    }
   ],
   "source": [
    "import numpy as np\n",
    "import matplotlib.pyplot as plt\n",
    "import matplotlib.patches as mpatches\n",
    "import matplotlib\n",
    "\n",
    "def f(x,y): return (1-x/2+x**5+y**3)*np.exp(-x**2-y**2)\n",
    "def f(x,w):\n",
    "    return w.dot(np.transpose(x))\n",
    "\n",
    "def maxIndex(a):\n",
    "    top = a[0]\n",
    "    index = 0\n",
    "    for i in range(len(a)):\n",
    "        if a[i] > top:\n",
    "            top = a[i]\n",
    "            index = i\n",
    "    return index;\n",
    "\n",
    "WW = np.array([[0,1,1],[1,1,0],[-1,0,1]])\n",
    "print(np.array([]))"
   ]
  },
  {
   "cell_type": "code",
   "execution_count": 18,
   "metadata": {},
   "outputs": [
    {
     "name": "stdout",
     "output_type": "stream",
     "text": [
      "XXX (256, 256) (256, 256) (256, 256)\n",
      "[[ 1.  1.  1. ...,  1.  1.  1.]\n",
      " [ 1.  1.  1. ...,  1.  1.  1.]\n",
      " [ 1.  1.  1. ...,  1.  1.  1.]\n",
      " ..., \n",
      " [ 2.  2.  2. ...,  0.  0.  0.]\n",
      " [ 2.  2.  2. ...,  0.  0.  0.]\n",
      " [ 2.  2.  2. ...,  0.  0.  0.]]\n"
     ]
    },
    {
     "data": {
      "image/png": "[encoded data removed]",
      "text/plain": [
       "<matplotlib.figure.Figure at 0x1149b55d0>"
      ]
     },
     "metadata": {},
     "output_type": "display_data"
    }
   ],
   "source": [
    "import numpy as np\n",
    "import matplotlib.pyplot as plt\n",
    "import matplotlib.patches as mpatches\n",
    "import matplotlib\n",
    "\n",
    "def f(x,y): return (1-x/2+x**5+y**3)*np.exp(-x**2-y**2)\n",
    "def f(x,w):\n",
    "    return w.dot(np.transpose(x))\n",
    "\n",
    "def maxIndex(a):\n",
    "    top = a[0]\n",
    "    index = 0\n",
    "    for i in range(len(a)):\n",
    "        if a[i] > top:\n",
    "            top = a[i]\n",
    "            index = i\n",
    "    return index;\n",
    "\n",
    "WW = np.array([[0,1,1],[1,1,0],[-1,0,1]])\n",
    "\n",
    "n = 256\n",
    "x = np.linspace(-3,3,n)\n",
    "y = np.linspace(-3,3,n)\n",
    "X,Y = np.meshgrid(x,y)\n",
    "Z = np.zeros(X.shape)\n",
    "print \"XXX\",X.shape, Y.shape, Z.shape\n",
    "for iy in range(X.shape[0]):\n",
    "    for ix in range(X.shape[1]):\n",
    "        test = maxIndex(f(np.array([1,Y[ix,iy],X[ix,iy]]),WW))\n",
    "        Z[iy][ix] = test\n",
    "print Z\n",
    "\n",
    "C1 = plt.contourf(X, Y, Z, alpha=.5, cmap='jet')\n",
    "C2 = plt.contour(X, Y, Z, colors='black')\n",
    "plt.xlabel(\"x1\")\n",
    "plt.ylabel(\"x2\")\n",
    "\n",
    "cmap = matplotlib.cm.get_cmap('jet')\n",
    "red_patch = mpatches.Patch(color='r', label='Class 1')\n",
    "blue_patch = mpatches.Patch(color='b', label='Class 2')\n",
    "green_patch = mpatches.Patch(color='g', label='Class 3')\n",
    "\n",
    "plt.axhline(y=0, color='k', linewidth=1)\n",
    "plt.axvline(x=0, color='k', linewidth=1)\n",
    "\n",
    "plt.title(\"Linear Predictor Classification Regions\")\n",
    "plt.xlabel(\"X\")\n",
    "plt.ylabel(\"Y\").set_rotation(0)\n",
    "plt.show()\n"
   ]
  }
 ],
 "metadata": {
  "kernelspec": {
   "display_name": "Python 2",
   "language": "python",
   "name": "python2"
  },
  "language_info": {
   "codemirror_mode": {
    "name": "ipython",
    "version": 2
   },
   "file_extension": ".py",
   "mimetype": "text/x-python",
   "name": "python",
   "nbconvert_exporter": "python",
   "pygments_lexer": "ipython2",
   "version": "2.7.13"
  }
 },
 "nbformat": 4,
 "nbformat_minor": 2
}
